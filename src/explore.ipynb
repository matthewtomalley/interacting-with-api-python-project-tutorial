{
    "cells": [
        {
            "cell_type": "markdown",
            "metadata": {},
            "source": [
                "# Explore here"
            ]
        },
        {
            "cell_type": "code",
            "execution_count": 39,
            "metadata": {},
            "outputs": [],
            "source": [
                "import os\n",
                "import pandas as pd\n",
                "import matplotlib.pyplot as plt\n",
                "from dotenv import load_dotenv\n",
                "import spotipy\n",
                "from spotipy.oauth2 import SpotifyClientCredentials"
            ]
        },
        {
            "cell_type": "code",
            "execution_count": 40,
            "metadata": {},
            "outputs": [
                {
                    "data": {
                        "text/plain": [
                            "'Julian Bream'"
                        ]
                    },
                    "execution_count": 40,
                    "metadata": {},
                    "output_type": "execute_result"
                }
            ],
            "source": [
                "# load the .env file variables\n",
                "load_dotenv()\n",
                "\n",
                "client_id = os.getenv('CLIENT_ID')\n",
                "client_secret = os.getenv('CLIENT_SECRET')\n",
                "\n",
                "auth_manager = SpotifyClientCredentials(client_id=client_id, client_secret=client_secret)\n",
                "sp = spotipy.Spotify(auth_manager=auth_manager)\n",
                "\n",
                "artist_id = '6vjF8XdNoqVRj5G021FBM6'\n",
                "\n",
                "artist_uri = 'spotify:artist:6vjF8XdNoqVRj5G021FBM6'\n",
                "\n",
                "artist = sp.artist(artist_uri)\n",
                "artist['name']"
            ]
        },
        {
            "cell_type": "code",
            "execution_count": 41,
            "metadata": {},
            "outputs": [
                {
                    "name": "stdout",
                    "output_type": "stream",
                    "text": [
                        "Lágrima\n",
                        "Rodrigo: Concierto de Aranjuez: II. Adagio (Excerpt)\n",
                        "Fantasía para un Gentilhombre: IIa. Españoleta\n",
                        "Lute Music - England: Melancholy Galliard\n",
                        "Divertimento in B-Flat Major, K. Anh. 229 No. 2: III. Larghetto (Arr. J. Bream for Guitar)\n",
                        "Gloriana: Courtly Dances: Galliard\n",
                        "Concierto de Aranjuez: II. Adagio [Excerpt]\n",
                        "Concierto de Aranjuez: II. Adagio\n",
                        "Fantasía para un Gentilhombre: IV. Canario\n",
                        "Prelude in D Minor, BWV 999\n"
                    ]
                }
            ],
            "source": [
                "results = sp.artist_top_tracks(artist_uri)\n",
                "\n",
                "tracks = results['tracks']\n",
                "\n",
                "for track in tracks:\n",
                "    print(track['name'])"
            ]
        },
        {
            "cell_type": "code",
            "execution_count": 55,
            "metadata": {},
            "outputs": [
                {
                    "data": {
                        "text/html": [
                            "<div>\n",
                            "<style scoped>\n",
                            "    .dataframe tbody tr th:only-of-type {\n",
                            "        vertical-align: middle;\n",
                            "    }\n",
                            "\n",
                            "    .dataframe tbody tr th {\n",
                            "        vertical-align: top;\n",
                            "    }\n",
                            "\n",
                            "    .dataframe thead th {\n",
                            "        text-align: right;\n",
                            "    }\n",
                            "</style>\n",
                            "<table border=\"1\" class=\"dataframe\">\n",
                            "  <thead>\n",
                            "    <tr style=\"text-align: right;\">\n",
                            "      <th></th>\n",
                            "      <th>album</th>\n",
                            "      <th>artists</th>\n",
                            "      <th>available_markets</th>\n",
                            "      <th>disc_number</th>\n",
                            "      <th>duration_ms</th>\n",
                            "      <th>explicit</th>\n",
                            "      <th>external_ids</th>\n",
                            "      <th>external_urls</th>\n",
                            "      <th>href</th>\n",
                            "      <th>id</th>\n",
                            "      <th>is_local</th>\n",
                            "      <th>is_playable</th>\n",
                            "      <th>name</th>\n",
                            "      <th>popularity</th>\n",
                            "      <th>preview_url</th>\n",
                            "      <th>track_number</th>\n",
                            "      <th>type</th>\n",
                            "      <th>uri</th>\n",
                            "    </tr>\n",
                            "  </thead>\n",
                            "  <tbody>\n",
                            "    <tr>\n",
                            "      <th>0</th>\n",
                            "      <td>{'album_type': 'album', 'artists': [{'external...</td>\n",
                            "      <td>[{'external_urls': {'spotify': 'https://open.s...</td>\n",
                            "      <td>[AR, AU, AT, BE, BO, BR, BG, CA, CL, CO, CR, C...</td>\n",
                            "      <td>1</td>\n",
                            "      <td>123426</td>\n",
                            "      <td>False</td>\n",
                            "      <td>{'isrc': 'USBC17000114'}</td>\n",
                            "      <td>{'spotify': 'https://open.spotify.com/track/1a...</td>\n",
                            "      <td>https://api.spotify.com/v1/tracks/1aMeBqrCnPf1...</td>\n",
                            "      <td>1aMeBqrCnPf1CzRXlKyNFs</td>\n",
                            "      <td>False</td>\n",
                            "      <td>True</td>\n",
                            "      <td>Lágrima</td>\n",
                            "      <td>41</td>\n",
                            "      <td>None</td>\n",
                            "      <td>7</td>\n",
                            "      <td>track</td>\n",
                            "      <td>spotify:track:1aMeBqrCnPf1CzRXlKyNFs</td>\n",
                            "    </tr>\n",
                            "    <tr>\n",
                            "      <th>1</th>\n",
                            "      <td>{'album_type': 'album', 'artists': [{'external...</td>\n",
                            "      <td>[{'external_urls': {'spotify': 'https://open.s...</td>\n",
                            "      <td>[AR, AU, AT, BE, BO, BR, BG, CA, CL, CO, CR, C...</td>\n",
                            "      <td>1</td>\n",
                            "      <td>285186</td>\n",
                            "      <td>False</td>\n",
                            "      <td>{'isrc': 'GBAYC9001093'}</td>\n",
                            "      <td>{'spotify': 'https://open.spotify.com/track/79...</td>\n",
                            "      <td>https://api.spotify.com/v1/tracks/79s98PAHLFbW...</td>\n",
                            "      <td>79s98PAHLFbWQrTMDtTTwm</td>\n",
                            "      <td>False</td>\n",
                            "      <td>True</td>\n",
                            "      <td>Rodrigo: Concierto de Aranjuez: II. Adagio (Ex...</td>\n",
                            "      <td>27</td>\n",
                            "      <td>None</td>\n",
                            "      <td>24</td>\n",
                            "      <td>track</td>\n",
                            "      <td>spotify:track:79s98PAHLFbWQrTMDtTTwm</td>\n",
                            "    </tr>\n",
                            "    <tr>\n",
                            "      <th>2</th>\n",
                            "      <td>{'album_type': 'album', 'artists': [{'external...</td>\n",
                            "      <td>[{'external_urls': {'spotify': 'https://open.s...</td>\n",
                            "      <td>[AR, AU, AT, BE, BO, BR, BG, CA, CL, CO, CR, C...</td>\n",
                            "      <td>1</td>\n",
                            "      <td>304466</td>\n",
                            "      <td>False</td>\n",
                            "      <td>{'isrc': 'USBC10400687'}</td>\n",
                            "      <td>{'spotify': 'https://open.spotify.com/track/1Y...</td>\n",
                            "      <td>https://api.spotify.com/v1/tracks/1YNCqpQZR3PF...</td>\n",
                            "      <td>1YNCqpQZR3PFwlyQ7cbwxZ</td>\n",
                            "      <td>False</td>\n",
                            "      <td>True</td>\n",
                            "      <td>Fantasía para un Gentilhombre: IIa. Españoleta</td>\n",
                            "      <td>36</td>\n",
                            "      <td>None</td>\n",
                            "      <td>11</td>\n",
                            "      <td>track</td>\n",
                            "      <td>spotify:track:1YNCqpQZR3PFwlyQ7cbwxZ</td>\n",
                            "    </tr>\n",
                            "    <tr>\n",
                            "      <th>3</th>\n",
                            "      <td>{'album_type': 'compilation', 'artists': [{'ex...</td>\n",
                            "      <td>[{'external_urls': {'spotify': 'https://open.s...</td>\n",
                            "      <td>[AE, AL, AR, AT, AU, BA, BE, BG, BH, BO, BR, C...</td>\n",
                            "      <td>1</td>\n",
                            "      <td>230000</td>\n",
                            "      <td>False</td>\n",
                            "      <td>{'isrc': 'DEF055634109'}</td>\n",
                            "      <td>{'spotify': 'https://open.spotify.com/track/4R...</td>\n",
                            "      <td>https://api.spotify.com/v1/tracks/4RMIruKbqMd8...</td>\n",
                            "      <td>4RMIruKbqMd8xj2AMvMLxZ</td>\n",
                            "      <td>False</td>\n",
                            "      <td>True</td>\n",
                            "      <td>Lute Music - England: Melancholy Galliard</td>\n",
                            "      <td>29</td>\n",
                            "      <td>None</td>\n",
                            "      <td>22</td>\n",
                            "      <td>track</td>\n",
                            "      <td>spotify:track:4RMIruKbqMd8xj2AMvMLxZ</td>\n",
                            "    </tr>\n",
                            "    <tr>\n",
                            "      <th>4</th>\n",
                            "      <td>{'album_type': 'album', 'artists': [{'external...</td>\n",
                            "      <td>[{'external_urls': {'spotify': 'https://open.s...</td>\n",
                            "      <td>[AR, AU, AT, BE, BO, BR, BG, CA, CL, CO, CR, C...</td>\n",
                            "      <td>1</td>\n",
                            "      <td>282666</td>\n",
                            "      <td>False</td>\n",
                            "      <td>{'isrc': 'USBC16800147'}</td>\n",
                            "      <td>{'spotify': 'https://open.spotify.com/track/7M...</td>\n",
                            "      <td>https://api.spotify.com/v1/tracks/7M9W0K3R2AnK...</td>\n",
                            "      <td>7M9W0K3R2AnKRk0bC1x62f</td>\n",
                            "      <td>False</td>\n",
                            "      <td>True</td>\n",
                            "      <td>Divertimento in B-Flat Major, K. Anh. 229 No. ...</td>\n",
                            "      <td>10</td>\n",
                            "      <td>None</td>\n",
                            "      <td>9</td>\n",
                            "      <td>track</td>\n",
                            "      <td>spotify:track:7M9W0K3R2AnKRk0bC1x62f</td>\n",
                            "    </tr>\n",
                            "  </tbody>\n",
                            "</table>\n",
                            "</div>"
                        ],
                        "text/plain": [
                            "                                               album  \\\n",
                            "0  {'album_type': 'album', 'artists': [{'external...   \n",
                            "1  {'album_type': 'album', 'artists': [{'external...   \n",
                            "2  {'album_type': 'album', 'artists': [{'external...   \n",
                            "3  {'album_type': 'compilation', 'artists': [{'ex...   \n",
                            "4  {'album_type': 'album', 'artists': [{'external...   \n",
                            "\n",
                            "                                             artists  \\\n",
                            "0  [{'external_urls': {'spotify': 'https://open.s...   \n",
                            "1  [{'external_urls': {'spotify': 'https://open.s...   \n",
                            "2  [{'external_urls': {'spotify': 'https://open.s...   \n",
                            "3  [{'external_urls': {'spotify': 'https://open.s...   \n",
                            "4  [{'external_urls': {'spotify': 'https://open.s...   \n",
                            "\n",
                            "                                   available_markets  disc_number  \\\n",
                            "0  [AR, AU, AT, BE, BO, BR, BG, CA, CL, CO, CR, C...            1   \n",
                            "1  [AR, AU, AT, BE, BO, BR, BG, CA, CL, CO, CR, C...            1   \n",
                            "2  [AR, AU, AT, BE, BO, BR, BG, CA, CL, CO, CR, C...            1   \n",
                            "3  [AE, AL, AR, AT, AU, BA, BE, BG, BH, BO, BR, C...            1   \n",
                            "4  [AR, AU, AT, BE, BO, BR, BG, CA, CL, CO, CR, C...            1   \n",
                            "\n",
                            "   duration_ms  explicit              external_ids  \\\n",
                            "0       123426     False  {'isrc': 'USBC17000114'}   \n",
                            "1       285186     False  {'isrc': 'GBAYC9001093'}   \n",
                            "2       304466     False  {'isrc': 'USBC10400687'}   \n",
                            "3       230000     False  {'isrc': 'DEF055634109'}   \n",
                            "4       282666     False  {'isrc': 'USBC16800147'}   \n",
                            "\n",
                            "                                       external_urls  \\\n",
                            "0  {'spotify': 'https://open.spotify.com/track/1a...   \n",
                            "1  {'spotify': 'https://open.spotify.com/track/79...   \n",
                            "2  {'spotify': 'https://open.spotify.com/track/1Y...   \n",
                            "3  {'spotify': 'https://open.spotify.com/track/4R...   \n",
                            "4  {'spotify': 'https://open.spotify.com/track/7M...   \n",
                            "\n",
                            "                                                href                      id  \\\n",
                            "0  https://api.spotify.com/v1/tracks/1aMeBqrCnPf1...  1aMeBqrCnPf1CzRXlKyNFs   \n",
                            "1  https://api.spotify.com/v1/tracks/79s98PAHLFbW...  79s98PAHLFbWQrTMDtTTwm   \n",
                            "2  https://api.spotify.com/v1/tracks/1YNCqpQZR3PF...  1YNCqpQZR3PFwlyQ7cbwxZ   \n",
                            "3  https://api.spotify.com/v1/tracks/4RMIruKbqMd8...  4RMIruKbqMd8xj2AMvMLxZ   \n",
                            "4  https://api.spotify.com/v1/tracks/7M9W0K3R2AnK...  7M9W0K3R2AnKRk0bC1x62f   \n",
                            "\n",
                            "   is_local  is_playable                                               name  \\\n",
                            "0     False         True                                            Lágrima   \n",
                            "1     False         True  Rodrigo: Concierto de Aranjuez: II. Adagio (Ex...   \n",
                            "2     False         True     Fantasía para un Gentilhombre: IIa. Españoleta   \n",
                            "3     False         True          Lute Music - England: Melancholy Galliard   \n",
                            "4     False         True  Divertimento in B-Flat Major, K. Anh. 229 No. ...   \n",
                            "\n",
                            "   popularity preview_url  track_number   type  \\\n",
                            "0          41        None             7  track   \n",
                            "1          27        None            24  track   \n",
                            "2          36        None            11  track   \n",
                            "3          29        None            22  track   \n",
                            "4          10        None             9  track   \n",
                            "\n",
                            "                                    uri  \n",
                            "0  spotify:track:1aMeBqrCnPf1CzRXlKyNFs  \n",
                            "1  spotify:track:79s98PAHLFbWQrTMDtTTwm  \n",
                            "2  spotify:track:1YNCqpQZR3PFwlyQ7cbwxZ  \n",
                            "3  spotify:track:4RMIruKbqMd8xj2AMvMLxZ  \n",
                            "4  spotify:track:7M9W0K3R2AnKRk0bC1x62f  "
                        ]
                    },
                    "execution_count": 55,
                    "metadata": {},
                    "output_type": "execute_result"
                }
            ],
            "source": [
                "data = pd.DataFrame(tracks)\n",
                "\n",
                "data.head()"
            ]
        },
        {
            "cell_type": "code",
            "execution_count": 59,
            "metadata": {},
            "outputs": [
                {
                    "data": {
                        "text/plain": [
                            "5                   Gloriana: Courtly Dances: Galliard\n",
                            "4    Divertimento in B-Flat Major, K. Anh. 229 No. ...\n",
                            "8           Fantasía para un Gentilhombre: IV. Canario\n",
                            "Name: name, dtype: object"
                        ]
                    },
                    "execution_count": 59,
                    "metadata": {},
                    "output_type": "execute_result"
                }
            ],
            "source": [
                "data = data.sort_values(by='popularity')\n",
                "\n",
                "data.name.head(3)"
            ]
        },
        {
            "cell_type": "code",
            "execution_count": 49,
            "metadata": {},
            "outputs": [
                {
                    "data": {
                        "image/png": "[encoded data removed]",
                        "text/plain": [
                            "<Figure size 640x480 with 1 Axes>"
                        ]
                    },
                    "metadata": {},
                    "output_type": "display_data"
                }
            ],
            "source": [
                "plt.scatter(data.duration_ms, data.popularity)\n",
                "\n",
                "plt.xlabel('duration in ms')\n",
                "\n",
                "plt.ylabel('popularity')\n",
                "\n",
                "plt.show()"
            ]
        },
        {
            "cell_type": "markdown",
            "metadata": {},
            "source": [
                "No apparent correlation between popularity and duration"
            ]
        }
    ],
    "metadata": {
        "kernelspec": {
            "display_name": "Python 3",
            "language": "python",
            "name": "python3"
        },
        "language_info": {
            "codemirror_mode": {
                "name": "ipython",
                "version": 3
            },
            "file_extension": ".py",
            "mimetype": "text/x-python",
            "name": "python",
            "nbconvert_exporter": "python",
            "pygments_lexer": "ipython3",
            "version": "3.11.4"
        },
        "orig_nbformat": 4
    },
    "nbformat": 4,
    "nbformat_minor": 2
}
